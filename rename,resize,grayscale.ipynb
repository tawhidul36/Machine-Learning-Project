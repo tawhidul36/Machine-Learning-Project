{
 "cells": [
  {
   "cell_type": "code",
   "execution_count": 2,
   "id": "29af0d9e",
   "metadata": {},
   "outputs": [
    {
     "name": "stdout",
     "output_type": "stream",
     "text": [
      "Resizing, converting to grayscale, and renaming complete.\n"
     ]
    }
   ],
   "source": [
    "import cv2\n",
    "import os\n",
    "\n",
    "# Path to the directory containing your ECG images\n",
    "input_directory = r\"E:\\Thesis\\MITBIH-Malignant ventricular ectopic\\image_cu12\"\n",
    "\n",
    "# Output directory to save resized and grayscale images\n",
    "output_directory = r\"E:\\Thesis\\MITBIH-Malignant ventricular ectopic\\Rename_resize_cu12\"\n",
    "\n",
    "# Ensure the output directory exists\n",
    "if not os.path.exists(output_directory):\n",
    "    os.makedirs(output_directory)\n",
    "\n",
    "# Initialize a counter for renaming\n",
    "counter = 1\n",
    "\n",
    "# Loop through each image in the input directory\n",
    "for filename in os.listdir(input_directory):\n",
    "    if filename.endswith(\".png\") or filename.endswith(\".jpg\"):\n",
    "        # Read the image\n",
    "        img_path = os.path.join(input_directory, filename)\n",
    "        img = cv2.imread(img_path, cv2.IMREAD_GRAYSCALE)\n",
    "\n",
    "        # Resize the image to 256x256 pixels\n",
    "        resized_img = cv2.resize(img, (256, 256))\n",
    "\n",
    "        # Construct the new filename with the counter (e.g., cu12_1, cu12_2, ...)\n",
    "        new_filename = f\"cu12_{counter}{os.path.splitext(filename)[1]}\"\n",
    "\n",
    "        # Increment the counter for the next image\n",
    "        counter += 1\n",
    "\n",
    "        # Save the resized and grayscale image to the output directory with the new filename\n",
    "        output_path = os.path.join(output_directory, new_filename)\n",
    "        cv2.imwrite(output_path, resized_img)\n",
    "\n",
    "print(\"Resizing, converting to grayscale, and renaming complete.\")\n"
   ]
  },
  {
   "cell_type": "code",
   "execution_count": null,
   "id": "cc953292",
   "metadata": {},
   "outputs": [],
   "source": []
  }
 ],
 "metadata": {
  "kernelspec": {
   "display_name": "Python 3 (ipykernel)",
   "language": "python",
   "name": "python3"
  },
  "language_info": {
   "codemirror_mode": {
    "name": "ipython",
    "version": 3
   },
   "file_extension": ".py",
   "mimetype": "text/x-python",
   "name": "python",
   "nbconvert_exporter": "python",
   "pygments_lexer": "ipython3",
   "version": "3.9.13"
  }
 },
 "nbformat": 4,
 "nbformat_minor": 5
}
